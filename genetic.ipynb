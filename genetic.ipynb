{
 "cells": [
  {
   "cell_type": "markdown",
   "metadata": {
    "colab_type": "text",
    "id": "Sdi2UTA8vWEJ"
   },
   "source": [
    "A proof of concept showing using a genetic algorithm with our environment.\n",
    "It is similar to https://github.com/DEAP/deap/blob/a0b78956e28387785e3bb6e2b4b1f1b32c2b3883/examples/ga/onemax_short.py"
   ]
  },
  {
   "cell_type": "code",
   "execution_count": null,
   "metadata": {
    "colab": {
     "base_uri": "https://localhost:8080/",
     "height": 1000
    },
    "colab_type": "code",
    "id": "Qv1kWykfqRLl",
    "outputId": "eda4b75a-48ff-4852-a019-b40577db74e0"
   },
   "outputs": [],
   "source": [
    "# Run this cell if you're using colab. Otherwise, skip it.\n",
    "\n",
    "!git clone https://github.com/platers/meta-transfer-learning.git\n",
    "\n",
    "import os\n",
    "os.chdir('meta-transfer-learning')\n",
    "\n",
    "!pip install -U https://s3-us-west-2.amazonaws.com/ray-wheels/latest/ray-0.9.0.dev0-cp36-cp36m-manylinux1_x86_64.whl\n",
    "\n",
    "!pip install -r requirements.txt"
   ]
  },
  {
   "cell_type": "code",
   "execution_count": 6,
   "metadata": {
    "colab": {},
    "colab_type": "code",
    "id": "ojEPVGZmvTAe"
   },
   "outputs": [],
   "source": [
    "import array\n",
    "import random\n",
    "\n",
    "import numpy as np\n",
    "from typing import Dict\n",
    "\n",
    "from deap import algorithms\n",
    "from deap import base\n",
    "from deap import creator\n",
    "from deap import tools\n",
    "import gym\n",
    "\n",
    "from environments import SimpleEnv\n",
    "import importlib\n",
    "importlib.reload(SimpleEnv)\n",
    "from environments.SimpleEnv import SimpleEnv #, TODO: add more environments\n",
    "\n",
    "from ray.rllib.agents import ppo\n",
    "from ray import tune\n",
    "from ray.rllib.policy.policy import Policy\n",
    "from ray.rllib.env import BaseEnv\n",
    "from ray.rllib.env.multi_agent_env import MultiAgentEnv\n",
    "from ray.rllib.evaluation import MultiAgentEpisode, RolloutWorker\n",
    "from ray.rllib.agents.callbacks import DefaultCallbacks\n",
    "import ray"
   ]
  },
  {
   "cell_type": "code",
   "execution_count": 7,
   "metadata": {},
   "outputs": [
    {
     "name": "stderr",
     "output_type": "stream",
     "text": [
      "2020-05-04 20:29:32,171\tINFO resource_spec.py:212 -- Starting Ray with 2.15 GiB memory available for workers and up to 1.08 GiB for objects. You can adjust these settings with ray.init(memory=<bytes>, object_store_memory=<bytes>).\n",
      "2020-05-04 20:29:32,533\tINFO services.py:1170 -- View the Ray dashboard at \u001b[1m\u001b[32mlocalhost:8265\u001b[39m\u001b[22m\n",
      "/home/victor/anaconda3/lib/python3.6/site-packages/deap/creator.py:141: RuntimeWarning: A class named 'FitnessMax' has already been created and it will be overwritten. Consider deleting previous creation of that class or rename it.\n",
      "  RuntimeWarning)\n",
      "/home/victor/anaconda3/lib/python3.6/site-packages/deap/creator.py:141: RuntimeWarning: A class named 'Individual' has already been created and it will be overwritten. Consider deleting previous creation of that class or rename it.\n",
      "  RuntimeWarning)\n"
     ]
    }
   ],
   "source": [
    "ray.shutdown()\n",
    "ray.init()\n",
    "\n",
    "n_agents = 3\n",
    "n_var = 2\n",
    "training_envs = [\n",
    "(SimpleEnv, {\n",
    "    'n_agents': n_agents,\n",
    "    'n_vars': n_var,\n",
    "    'true_reward_weights': [1, 0],\n",
    "    'max_step_count': 20,\n",
    "}),\n",
    "(SimpleEnv, {\n",
    "    'n_agents': n_agents,\n",
    "    'n_vars': n_var,\n",
    "    'true_reward_weights': [0, 1],\n",
    "    'max_step_count': 20,\n",
    "})]\n",
    "test_env = (SimpleEnv, {\n",
    "    'n_agents': n_agents,\n",
    "    'n_vars': n_var,\n",
    "    'true_reward_weights': [1, 1],\n",
    "    'max_step_count': 20,\n",
    "})\n",
    "\n",
    "creator.create('FitnessMax', base.Fitness, weights=(1.0, ))\n",
    "creator.create('Individual', array.array, typecode='d',\n",
    "               fitness=creator.FitnessMax)\n",
    "\n",
    "toolbox = base.Toolbox()\n",
    "\n",
    "toolbox.register('attr', random.uniform, -1, 1)\n",
    "toolbox.register('individual', tools.initRepeat, creator.Individual,\n",
    "                 toolbox.attr, n_agents * n_var)\n",
    "toolbox.register('population', tools.initRepeat, list,\n",
    "                 toolbox.individual)\n"
   ]
  },
  {
   "cell_type": "code",
   "execution_count": 8,
   "metadata": {
    "colab": {
     "base_uri": "https://localhost:8080/",
     "height": 71
    },
    "colab_type": "code",
    "id": "oP1G3iuuolJi",
    "outputId": "d957997c-cf69-42eb-c90c-91a90fdaa8be"
   },
   "outputs": [],
   "source": [
    "def evaluate_individual_env(individual, environment, env_config):\n",
    "    \"\"\"Runs the environment. All agents have the same policy.\n",
    "  It returns the total true reward as the fitness.\n",
    "  \"\"\"\n",
    "    #Select random individuals from pop and create the reward weights\n",
    "    pop = np.array([individual for i in range(n_agents)])\n",
    "    reward_weights = pop\n",
    "    env_config['reward_weights'] = reward_weights\n",
    "    #env is only to get action space and observation space\n",
    "    env = environment(config=env_config)\n",
    "    class MyCallbacks(DefaultCallbacks):\n",
    "        #Callback functions to keep track of true reward while training\n",
    "        def on_episode_start(self, worker: RolloutWorker, base_env: BaseEnv,\n",
    "                         policies: Dict[str, Policy],\n",
    "                         episode: MultiAgentEpisode, **kwargs):\n",
    "            episode.user_data[\"true_rewards\"] = np.zeros(n_agents)\n",
    "\n",
    "        def on_episode_step(self, worker: RolloutWorker, base_env: BaseEnv,\n",
    "                        episode: MultiAgentEpisode, **kwargs):\n",
    "            env = base_env\n",
    "            true_reward = env.env_states[0].env.last_true_reward\n",
    "            episode.user_data[\"true_rewards\"] += true_reward\n",
    "\n",
    "        def on_episode_end(self, worker: RolloutWorker, base_env: BaseEnv,\n",
    "                       policies: Dict[str, Policy], episode: MultiAgentEpisode,\n",
    "                       **kwargs):\n",
    "            true_reward = episode.user_data[\"true_rewards\"]\n",
    "            for i, r in enumerate(true_reward):\n",
    "                episode.custom_metrics[\"true_reward_agent_\" + str(i)] = r\n",
    "            \n",
    "    config={\n",
    "        \"multiagent\": {\n",
    "            \"policies\": {\n",
    "            },\n",
    "            \"policy_mapping_fn\":  #all agents share a policy\n",
    "                lambda agent_id:\n",
    "                    'agent'\n",
    "        },\n",
    "        'env_config': env_config,\n",
    "        \"callbacks\": MyCallbacks,\n",
    "    }\n",
    "    config['multiagent']['policies']['agent'] = (None, env.observation_space, env.action_space, {})\n",
    "    trainer = ppo.PPOTrainer(env=environment, config=config)\n",
    "    \n",
    "    true_reward_mean = 0\n",
    "    for i in range(10):\n",
    "        #print('TRAINING', i)\n",
    "        true_reward_mean = 0\n",
    "        custom_metrics = trainer.train()['custom_metrics']  # distributed training step\n",
    "        #print(custom_metrics)\n",
    "        for i in range(n_agents):\n",
    "            true_reward_mean += custom_metrics['true_reward_agent_' + str(i) + '_mean']\n",
    "    true_reward_mean /= n_agents\n",
    "    #print('true reward', trainer.collect_metrics()['custom_metrics']['true_reward_mean'])\n",
    "    print('Evaluated', individual, 'Fitness', true_reward_mean)\n",
    "    return true_reward_mean\n",
    "\n",
    "\n",
    "def evaluate_individual(individual):\n",
    "    \"\"\"Runs all environments. \n",
    "  returns the average true reward over all environments as the fitness.\n",
    "  \"\"\"\n",
    "    fitness = 0\n",
    "    for env, config in training_envs:\n",
    "        fitness += evaluate_individual_env(individual, env, config)\n",
    "    return (fitness, )\n",
    "    \n",
    "toolbox.register('evaluate', evaluate_individual)\n",
    "toolbox.register('mate', tools.cxTwoPoint)\n",
    "toolbox.register('mutate', tools.mutFlipBit, indpb=0.05)\n",
    "toolbox.register('select', tools.selTournament, tournsize=3)"
   ]
  },
  {
   "cell_type": "code",
   "execution_count": 9,
   "metadata": {
    "colab": {
     "base_uri": "https://localhost:8080/",
     "height": 241
    },
    "colab_type": "code",
    "id": "k1cp_IzAwg5n",
    "outputId": "fc500615-efde-4668-e94a-685f9ef3df07"
   },
   "outputs": [
    {
     "name": "stderr",
     "output_type": "stream",
     "text": [
      "2020-05-04 20:29:33,743\tERROR syncer.py:39 -- Log sync requires rsync to be installed.\n"
     ]
    },
    {
     "name": "stdout",
     "output_type": "stream",
     "text": [
      "\u001b[2m\u001b[36m(pid=21899)\u001b[0m /home/victor/anaconda3/lib/python3.6/site-packages/h5py/__init__.py:34: FutureWarning: Conversion of the second argument of issubdtype from `float` to `np.floating` is deprecated. In future, it will be treated as `np.float64 == np.dtype(float).type`.\n",
      "\u001b[2m\u001b[36m(pid=21899)\u001b[0m   from ._conv import register_converters as _register_converters\n",
      "\u001b[2m\u001b[36m(pid=21897)\u001b[0m /home/victor/anaconda3/lib/python3.6/site-packages/h5py/__init__.py:34: FutureWarning: Conversion of the second argument of issubdtype from `float` to `np.floating` is deprecated. In future, it will be treated as `np.float64 == np.dtype(float).type`.\n",
      "\u001b[2m\u001b[36m(pid=21897)\u001b[0m   from ._conv import register_converters as _register_converters\n"
     ]
    },
    {
     "name": "stderr",
     "output_type": "stream",
     "text": [
      "2020-05-04 20:29:44,211\tINFO trainable.py:180 -- _setup took 10.466 seconds. If your trainable is slow to initialize, consider setting reuse_actors=True to reduce actor creation overheads.\n",
      "2020-05-04 20:29:44,212\tINFO trainable.py:217 -- Getting current IP.\n",
      "2020-05-04 20:29:44,212\tWARNING util.py:37 -- Install gputil for GPU system monitoring.\n",
      "2020-05-04 20:32:53,158\tERROR syncer.py:39 -- Log sync requires rsync to be installed.\n"
     ]
    },
    {
     "name": "stdout",
     "output_type": "stream",
     "text": [
      "Evaluated array('d', [-0.17752966514486035, -0.8454946636188607, 0.2130358149916065, -0.3617550073268947, 0.8111183220359401, 0.6172385093124968]) Fitness -5.72644739620655\n",
      "\u001b[2m\u001b[36m(pid=21898)\u001b[0m /home/victor/anaconda3/lib/python3.6/site-packages/h5py/__init__.py:34: FutureWarning: Conversion of the second argument of issubdtype from `float` to `np.floating` is deprecated. In future, it will be treated as `np.float64 == np.dtype(float).type`.\n",
      "\u001b[2m\u001b[36m(pid=21898)\u001b[0m   from ._conv import register_converters as _register_converters\n",
      "\u001b[2m\u001b[36m(pid=21896)\u001b[0m /home/victor/anaconda3/lib/python3.6/site-packages/h5py/__init__.py:34: FutureWarning: Conversion of the second argument of issubdtype from `float` to `np.floating` is deprecated. In future, it will be treated as `np.float64 == np.dtype(float).type`.\n",
      "\u001b[2m\u001b[36m(pid=21896)\u001b[0m   from ._conv import register_converters as _register_converters\n"
     ]
    },
    {
     "name": "stderr",
     "output_type": "stream",
     "text": [
      "2020-05-04 20:32:57,636\tINFO trainable.py:217 -- Getting current IP.\n",
      "2020-05-04 20:32:57,637\tWARNING util.py:37 -- Install gputil for GPU system monitoring.\n",
      "2020-05-04 20:34:48,921\tERROR syncer.py:39 -- Log sync requires rsync to be installed.\n"
     ]
    },
    {
     "name": "stdout",
     "output_type": "stream",
     "text": [
      "Evaluated array('d', [-0.17752966514486035, -0.8454946636188607, 0.2130358149916065, -0.3617550073268947, 0.8111183220359401, 0.6172385093124968]) Fitness 1.2745005642682374\n",
      "\u001b[2m\u001b[36m(pid=22130)\u001b[0m /home/victor/anaconda3/lib/python3.6/site-packages/h5py/__init__.py:34: FutureWarning: Conversion of the second argument of issubdtype from `float` to `np.floating` is deprecated. In future, it will be treated as `np.float64 == np.dtype(float).type`.\n",
      "\u001b[2m\u001b[36m(pid=22130)\u001b[0m   from ._conv import register_converters as _register_converters\n",
      "\u001b[2m\u001b[36m(pid=22131)\u001b[0m /home/victor/anaconda3/lib/python3.6/site-packages/h5py/__init__.py:34: FutureWarning: Conversion of the second argument of issubdtype from `float` to `np.floating` is deprecated. In future, it will be treated as `np.float64 == np.dtype(float).type`.\n",
      "\u001b[2m\u001b[36m(pid=22131)\u001b[0m   from ._conv import register_converters as _register_converters\n"
     ]
    },
    {
     "name": "stderr",
     "output_type": "stream",
     "text": [
      "2020-05-04 20:34:53,488\tINFO trainable.py:217 -- Getting current IP.\n",
      "2020-05-04 20:34:53,489\tWARNING util.py:37 -- Install gputil for GPU system monitoring.\n",
      "2020-05-04 20:36:46,031\tERROR syncer.py:39 -- Log sync requires rsync to be installed.\n"
     ]
    },
    {
     "name": "stdout",
     "output_type": "stream",
     "text": [
      "Evaluated array('d', [-0.2515747680644629, -0.7063495891325171, 0.8234620760139413, 0.7610109760866954, 0.6506763108978786, -0.8552344804263239]) Fitness 5.1734567729166026\n",
      "\u001b[2m\u001b[36m(pid=22142)\u001b[0m /home/victor/anaconda3/lib/python3.6/site-packages/h5py/__init__.py:34: FutureWarning: Conversion of the second argument of issubdtype from `float` to `np.floating` is deprecated. In future, it will be treated as `np.float64 == np.dtype(float).type`.\n",
      "\u001b[2m\u001b[36m(pid=22142)\u001b[0m   from ._conv import register_converters as _register_converters\n",
      "\u001b[2m\u001b[36m(pid=22215)\u001b[0m /home/victor/anaconda3/lib/python3.6/site-packages/h5py/__init__.py:34: FutureWarning: Conversion of the second argument of issubdtype from `float` to `np.floating` is deprecated. In future, it will be treated as `np.float64 == np.dtype(float).type`.\n",
      "\u001b[2m\u001b[36m(pid=22215)\u001b[0m   from ._conv import register_converters as _register_converters\n"
     ]
    },
    {
     "name": "stderr",
     "output_type": "stream",
     "text": [
      "2020-05-04 20:36:50,614\tINFO trainable.py:217 -- Getting current IP.\n",
      "2020-05-04 20:36:50,615\tWARNING util.py:37 -- Install gputil for GPU system monitoring.\n",
      "2020-05-04 20:38:41,714\tERROR syncer.py:39 -- Log sync requires rsync to be installed.\n"
     ]
    },
    {
     "name": "stdout",
     "output_type": "stream",
     "text": [
      "Evaluated array('d', [-0.2515747680644629, -0.7063495891325171, 0.8234620760139413, 0.7610109760866954, 0.6506763108978786, -0.8552344804263239]) Fitness -12.527856433419759\n",
      "\u001b[2m\u001b[36m(pid=22303)\u001b[0m /home/victor/anaconda3/lib/python3.6/site-packages/h5py/__init__.py:34: FutureWarning: Conversion of the second argument of issubdtype from `float` to `np.floating` is deprecated. In future, it will be treated as `np.float64 == np.dtype(float).type`.\n",
      "\u001b[2m\u001b[36m(pid=22303)\u001b[0m   from ._conv import register_converters as _register_converters\n",
      "\u001b[2m\u001b[36m(pid=22304)\u001b[0m /home/victor/anaconda3/lib/python3.6/site-packages/h5py/__init__.py:34: FutureWarning: Conversion of the second argument of issubdtype from `float` to `np.floating` is deprecated. In future, it will be treated as `np.float64 == np.dtype(float).type`.\n",
      "\u001b[2m\u001b[36m(pid=22304)\u001b[0m   from ._conv import register_converters as _register_converters\n"
     ]
    },
    {
     "name": "stderr",
     "output_type": "stream",
     "text": [
      "2020-05-04 20:38:46,623\tINFO trainable.py:217 -- Getting current IP.\n",
      "2020-05-04 20:38:46,623\tWARNING util.py:37 -- Install gputil for GPU system monitoring.\n",
      "2020-05-04 20:40:38,811\tERROR syncer.py:39 -- Log sync requires rsync to be installed.\n"
     ]
    },
    {
     "name": "stdout",
     "output_type": "stream",
     "text": [
      "Evaluated array('d', [-0.7911810104935142, 0.046728697284842635, 0.24939730637720992, -0.7113797379718891, -0.99173253560944, 0.5387376630286655]) Fitness -3.4557299821117584\n",
      "\u001b[2m\u001b[36m(pid=22314)\u001b[0m /home/victor/anaconda3/lib/python3.6/site-packages/h5py/__init__.py:34: FutureWarning: Conversion of the second argument of issubdtype from `float` to `np.floating` is deprecated. In future, it will be treated as `np.float64 == np.dtype(float).type`.\n",
      "\u001b[2m\u001b[36m(pid=22314)\u001b[0m   from ._conv import register_converters as _register_converters\n",
      "\u001b[2m\u001b[36m(pid=22389)\u001b[0m /home/victor/anaconda3/lib/python3.6/site-packages/h5py/__init__.py:34: FutureWarning: Conversion of the second argument of issubdtype from `float` to `np.floating` is deprecated. In future, it will be treated as `np.float64 == np.dtype(float).type`.\n",
      "\u001b[2m\u001b[36m(pid=22389)\u001b[0m   from ._conv import register_converters as _register_converters\n"
     ]
    },
    {
     "name": "stderr",
     "output_type": "stream",
     "text": [
      "2020-05-04 20:40:43,324\tINFO trainable.py:217 -- Getting current IP.\n",
      "2020-05-04 20:40:43,325\tWARNING util.py:37 -- Install gputil for GPU system monitoring.\n",
      "2020-05-04 20:42:34,350\tERROR syncer.py:39 -- Log sync requires rsync to be installed.\n"
     ]
    },
    {
     "name": "stdout",
     "output_type": "stream",
     "text": [
      "Evaluated array('d', [-0.7911810104935142, 0.046728697284842635, 0.24939730637720992, -0.7113797379718891, -0.99173253560944, 0.5387376630286655]) Fitness 17.188637546175197\n",
      "gen\tnevals\tavg     \tstd    \tmin    \tmax    \n",
      "0  \t3     \t0.642187\t9.33207\t-7.3544\t13.7329\n",
      "1  \t0     \t13.7329 \t0      \t13.7329\t13.7329\n",
      "\u001b[2m\u001b[36m(pid=22477)\u001b[0m /home/victor/anaconda3/lib/python3.6/site-packages/h5py/__init__.py:34: FutureWarning: Conversion of the second argument of issubdtype from `float` to `np.floating` is deprecated. In future, it will be treated as `np.float64 == np.dtype(float).type`.\n",
      "\u001b[2m\u001b[36m(pid=22477)\u001b[0m   from ._conv import register_converters as _register_converters\n",
      "\u001b[2m\u001b[36m(pid=22476)\u001b[0m /home/victor/anaconda3/lib/python3.6/site-packages/h5py/__init__.py:34: FutureWarning: Conversion of the second argument of issubdtype from `float` to `np.floating` is deprecated. In future, it will be treated as `np.float64 == np.dtype(float).type`.\n",
      "\u001b[2m\u001b[36m(pid=22476)\u001b[0m   from ._conv import register_converters as _register_converters\n"
     ]
    },
    {
     "name": "stderr",
     "output_type": "stream",
     "text": [
      "2020-05-04 20:42:38,947\tINFO trainable.py:217 -- Getting current IP.\n",
      "2020-05-04 20:42:38,948\tWARNING util.py:37 -- Install gputil for GPU system monitoring.\n",
      "2020-05-04 20:44:29,818\tERROR syncer.py:39 -- Log sync requires rsync to be installed.\n"
     ]
    },
    {
     "name": "stdout",
     "output_type": "stream",
     "text": [
      "Evaluated array('d', [-0.7911810104935142, 0.046728697284842635, 0.24939730637720992, -0.7113797379718891, -0.99173253560944, 0.5387376630286655]) Fitness -4.810960957433126\n",
      "\u001b[2m\u001b[36m(pid=22487)\u001b[0m /home/victor/anaconda3/lib/python3.6/site-packages/h5py/__init__.py:34: FutureWarning: Conversion of the second argument of issubdtype from `float` to `np.floating` is deprecated. In future, it will be treated as `np.float64 == np.dtype(float).type`.\n",
      "\u001b[2m\u001b[36m(pid=22487)\u001b[0m   from ._conv import register_converters as _register_converters\n",
      "\u001b[2m\u001b[36m(pid=22564)\u001b[0m /home/victor/anaconda3/lib/python3.6/site-packages/h5py/__init__.py:34: FutureWarning: Conversion of the second argument of issubdtype from `float` to `np.floating` is deprecated. In future, it will be treated as `np.float64 == np.dtype(float).type`.\n",
      "\u001b[2m\u001b[36m(pid=22564)\u001b[0m   from ._conv import register_converters as _register_converters\n"
     ]
    },
    {
     "name": "stderr",
     "output_type": "stream",
     "text": [
      "2020-05-04 20:44:34,884\tINFO trainable.py:217 -- Getting current IP.\n",
      "2020-05-04 20:44:34,885\tWARNING util.py:37 -- Install gputil for GPU system monitoring.\n",
      "2020-05-04 20:46:26,127\tERROR syncer.py:39 -- Log sync requires rsync to be installed.\n"
     ]
    },
    {
     "name": "stdout",
     "output_type": "stream",
     "text": [
      "Evaluated array('d', [-0.7911810104935142, 0.046728697284842635, 0.24939730637720992, -0.7113797379718891, -0.99173253560944, 0.5387376630286655]) Fitness 18.434354394776065\n",
      "2  \t1     \t13.6964 \t0.0516255\t13.6234\t13.7329\n",
      "\u001b[2m\u001b[36m(pid=22624)\u001b[0m /home/victor/anaconda3/lib/python3.6/site-packages/h5py/__init__.py:34: FutureWarning: Conversion of the second argument of issubdtype from `float` to `np.floating` is deprecated. In future, it will be treated as `np.float64 == np.dtype(float).type`.\n",
      "\u001b[2m\u001b[36m(pid=22624)\u001b[0m   from ._conv import register_converters as _register_converters\n",
      "\u001b[2m\u001b[36m(pid=22625)\u001b[0m /home/victor/anaconda3/lib/python3.6/site-packages/h5py/__init__.py:34: FutureWarning: Conversion of the second argument of issubdtype from `float` to `np.floating` is deprecated. In future, it will be treated as `np.float64 == np.dtype(float).type`.\n",
      "\u001b[2m\u001b[36m(pid=22625)\u001b[0m   from ._conv import register_converters as _register_converters\n"
     ]
    },
    {
     "name": "stderr",
     "output_type": "stream",
     "text": [
      "2020-05-04 20:46:30,644\tINFO trainable.py:217 -- Getting current IP.\n",
      "2020-05-04 20:46:30,645\tWARNING util.py:37 -- Install gputil for GPU system monitoring.\n",
      "2020-05-04 20:48:25,386\tERROR syncer.py:39 -- Log sync requires rsync to be installed.\n"
     ]
    },
    {
     "name": "stdout",
     "output_type": "stream",
     "text": [
      "Evaluated array('d', [-0.7911810104935142, 0.046728697284842635, 0.24939730637720992, -0.7113797379718891, -0.99173253560944, 0.5387376630286655]) Fitness 3.4793956488557405\n",
      "\u001b[2m\u001b[36m(pid=22635)\u001b[0m /home/victor/anaconda3/lib/python3.6/site-packages/h5py/__init__.py:34: FutureWarning: Conversion of the second argument of issubdtype from `float` to `np.floating` is deprecated. In future, it will be treated as `np.float64 == np.dtype(float).type`.\n",
      "\u001b[2m\u001b[36m(pid=22635)\u001b[0m   from ._conv import register_converters as _register_converters\n",
      "\u001b[2m\u001b[36m(pid=22743)\u001b[0m /home/victor/anaconda3/lib/python3.6/site-packages/h5py/__init__.py:34: FutureWarning: Conversion of the second argument of issubdtype from `float` to `np.floating` is deprecated. In future, it will be treated as `np.float64 == np.dtype(float).type`.\n",
      "\u001b[2m\u001b[36m(pid=22743)\u001b[0m   from ._conv import register_converters as _register_converters\n"
     ]
    },
    {
     "name": "stderr",
     "output_type": "stream",
     "text": [
      "2020-05-04 20:48:29,991\tINFO trainable.py:217 -- Getting current IP.\n",
      "2020-05-04 20:48:29,992\tWARNING util.py:37 -- Install gputil for GPU system monitoring.\n",
      "2020-05-04 20:50:21,090\tERROR syncer.py:39 -- Log sync requires rsync to be installed.\n"
     ]
    },
    {
     "name": "stdout",
     "output_type": "stream",
     "text": [
      "Evaluated array('d', [-0.7911810104935142, 0.046728697284842635, 0.24939730637720992, -0.7113797379718891, -0.99173253560944, 0.5387376630286655]) Fitness 10.20664307831675\n",
      "\u001b[2m\u001b[36m(pid=22798)\u001b[0m /home/victor/anaconda3/lib/python3.6/site-packages/h5py/__init__.py:34: FutureWarning: Conversion of the second argument of issubdtype from `float` to `np.floating` is deprecated. In future, it will be treated as `np.float64 == np.dtype(float).type`.\n",
      "\u001b[2m\u001b[36m(pid=22798)\u001b[0m   from ._conv import register_converters as _register_converters\n",
      "\u001b[2m\u001b[36m(pid=22799)\u001b[0m /home/victor/anaconda3/lib/python3.6/site-packages/h5py/__init__.py:34: FutureWarning: Conversion of the second argument of issubdtype from `float` to `np.floating` is deprecated. In future, it will be treated as `np.float64 == np.dtype(float).type`.\n",
      "\u001b[2m\u001b[36m(pid=22799)\u001b[0m   from ._conv import register_converters as _register_converters\n"
     ]
    },
    {
     "name": "stderr",
     "output_type": "stream",
     "text": [
      "2020-05-04 20:50:25,660\tINFO trainable.py:217 -- Getting current IP.\n",
      "2020-05-04 20:50:25,660\tWARNING util.py:37 -- Install gputil for GPU system monitoring.\n",
      "2020-05-04 20:52:16,741\tERROR syncer.py:39 -- Log sync requires rsync to be installed.\n"
     ]
    },
    {
     "name": "stdout",
     "output_type": "stream",
     "text": [
      "Evaluated array('d', [-0.7911810104935142, 0.046728697284842635, 0.24939730637720992, -0.7113797379718891, -0.99173253560944, 0.5387376630286655]) Fitness -15.884982506187269\n",
      "\u001b[2m\u001b[36m(pid=22810)\u001b[0m /home/victor/anaconda3/lib/python3.6/site-packages/h5py/__init__.py:34: FutureWarning: Conversion of the second argument of issubdtype from `float` to `np.floating` is deprecated. In future, it will be treated as `np.float64 == np.dtype(float).type`.\n",
      "\u001b[2m\u001b[36m(pid=22810)\u001b[0m   from ._conv import register_converters as _register_converters\n",
      "\u001b[2m\u001b[36m(pid=22883)\u001b[0m /home/victor/anaconda3/lib/python3.6/site-packages/h5py/__init__.py:34: FutureWarning: Conversion of the second argument of issubdtype from `float` to `np.floating` is deprecated. In future, it will be treated as `np.float64 == np.dtype(float).type`.\n",
      "\u001b[2m\u001b[36m(pid=22883)\u001b[0m   from ._conv import register_converters as _register_converters\n"
     ]
    },
    {
     "name": "stderr",
     "output_type": "stream",
     "text": [
      "2020-05-04 20:52:21,804\tINFO trainable.py:217 -- Getting current IP.\n",
      "2020-05-04 20:52:21,805\tWARNING util.py:37 -- Install gputil for GPU system monitoring.\n"
     ]
    },
    {
     "name": "stdout",
     "output_type": "stream",
     "text": [
      "Evaluated array('d', [-0.7911810104935142, 0.046728697284842635, 0.24939730637720992, -0.7113797379718891, -0.99173253560944, 0.5387376630286655]) Fitness -3.5275562641373956\n",
      "3  \t2     \t2.6688  \t15.6139  \t-19.4125\t13.7329\n",
      "pop [array('d', [-0.7911810104935142, 0.046728697284842635, 0.24939730637720992, -0.7113797379718891, -0.99173253560944, 0.5387376630286655]), array('d', [-0.7911810104935142, 0.046728697284842635, 0.24939730637720992, -0.7113797379718891, -0.99173253560944, 0.5387376630286655]), array('d', [-0.7911810104935142, 0.046728697284842635, 0.24939730637720992, -0.7113797379718891, -0.99173253560944, 0.5387376630286655])]\n"
     ]
    }
   ],
   "source": [
    "pop = toolbox.population(n=3)\n",
    "hof = tools.HallOfFame(10)\n",
    "stats = tools.Statistics(lambda ind: ind.fitness.values)\n",
    "stats.register('avg', np.mean)\n",
    "stats.register('std', np.std)\n",
    "stats.register('min', np.min)\n",
    "stats.register('max', np.max)\n",
    "\n",
    "pop, log = algorithms.eaSimple(pop, toolbox, cxpb=0.5, mutpb=0.2, ngen=3, \n",
    "                                   stats=stats, halloffame=hof, verbose=True)\n",
    "\n",
    "print ('pop', pop)"
   ]
  },
  {
   "cell_type": "code",
   "execution_count": 10,
   "metadata": {},
   "outputs": [
    {
     "name": "stderr",
     "output_type": "stream",
     "text": [
      "2020-05-04 20:54:13,993\tERROR syncer.py:39 -- Log sync requires rsync to be installed.\n"
     ]
    },
    {
     "name": "stdout",
     "output_type": "stream",
     "text": [
      "array('d', [-0.7911810104935142, 0.046728697284842635, 0.24939730637720992, -0.7113797379718891, -0.99173253560944, 0.5387376630286655])\n",
      "\u001b[2m\u001b[36m(pid=22968)\u001b[0m /home/victor/anaconda3/lib/python3.6/site-packages/h5py/__init__.py:34: FutureWarning: Conversion of the second argument of issubdtype from `float` to `np.floating` is deprecated. In future, it will be treated as `np.float64 == np.dtype(float).type`.\n",
      "\u001b[2m\u001b[36m(pid=22968)\u001b[0m   from ._conv import register_converters as _register_converters\n",
      "\u001b[2m\u001b[36m(pid=22969)\u001b[0m /home/victor/anaconda3/lib/python3.6/site-packages/h5py/__init__.py:34: FutureWarning: Conversion of the second argument of issubdtype from `float` to `np.floating` is deprecated. In future, it will be treated as `np.float64 == np.dtype(float).type`.\n",
      "\u001b[2m\u001b[36m(pid=22969)\u001b[0m   from ._conv import register_converters as _register_converters\n"
     ]
    },
    {
     "name": "stderr",
     "output_type": "stream",
     "text": [
      "2020-05-04 20:54:18,486\tINFO trainable.py:217 -- Getting current IP.\n",
      "2020-05-04 20:54:18,487\tWARNING util.py:37 -- Install gputil for GPU system monitoring.\n"
     ]
    },
    {
     "name": "stdout",
     "output_type": "stream",
     "text": [
      "Evaluated array('d', [-0.7911810104935142, 0.046728697284842635, 0.24939730637720992, -0.7113797379718891, -0.99173253560944, 0.5387376630286655]) Fitness 0.8423062089511587\n",
      "0.8423062089511587\n"
     ]
    }
   ],
   "source": [
    "best_individual = hof[0]\n",
    "print(best_individual)\n",
    "\n",
    "test_reward = evaluate_individual_env(best_individual, test_env[0], test_env[1])\n",
    "print(test_reward)"
   ]
  },
  {
   "cell_type": "code",
   "execution_count": null,
   "metadata": {},
   "outputs": [],
   "source": [
    "print(evaluate_individual([0, 0, 1, 0, 1, 0])) #Ideal reward, altruistic agent"
   ]
  },
  {
   "cell_type": "code",
   "execution_count": null,
   "metadata": {},
   "outputs": [],
   "source": []
  },
  {
   "cell_type": "code",
   "execution_count": null,
   "metadata": {},
   "outputs": [],
   "source": [
    "hof[:]"
   ]
  },
  {
   "cell_type": "code",
   "execution_count": null,
   "metadata": {},
   "outputs": [],
   "source": [
    "print(evaluate_individual([1, 0, -1, 0, -1, 0])) #Worst reward, selfish agent"
   ]
  },
  {
   "cell_type": "code",
   "execution_count": null,
   "metadata": {},
   "outputs": [],
   "source": []
  }
 ],
 "metadata": {
  "accelerator": "GPU",
  "colab": {
   "collapsed_sections": [],
   "name": "genetic.ipynb",
   "provenance": []
  },
  "kernelspec": {
   "display_name": "Python 3",
   "language": "python",
   "name": "python3"
  },
  "language_info": {
   "codemirror_mode": {
    "name": "ipython",
    "version": 3
   },
   "file_extension": ".py",
   "mimetype": "text/x-python",
   "name": "python",
   "nbconvert_exporter": "python",
   "pygments_lexer": "ipython3",
   "version": "3.6.4"
  }
 },
 "nbformat": 4,
 "nbformat_minor": 2
}
