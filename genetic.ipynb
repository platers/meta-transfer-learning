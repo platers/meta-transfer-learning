{
 "cells": [
  {
   "cell_type": "code",
   "execution_count": null,
   "metadata": {},
   "outputs": [
    {
     "name": "stderr",
     "output_type": "stream",
     "text": [
      "/home/victor/anaconda3/lib/python3.6/site-packages/h5py/__init__.py:34: FutureWarning: Conversion of the second argument of issubdtype from `float` to `np.floating` is deprecated. In future, it will be treated as `np.float64 == np.dtype(float).type`.\n",
      "  from ._conv import register_converters as _register_converters\n",
      "2020-05-01 18:20:31,571\tINFO resource_spec.py:212 -- Starting Ray with 1.9 GiB memory available for workers and up to 0.96 GiB for objects. You can adjust these settings with ray.init(memory=<bytes>, object_store_memory=<bytes>).\n",
      "2020-05-01 18:20:31,916\tINFO services.py:1170 -- View the Ray dashboard at \u001b[1m\u001b[32mlocalhost:8266\u001b[39m\u001b[22m\n",
      "2020-05-01 18:20:32,067\tINFO trainer.py:421 -- Tip: set 'eager': true or the --eager flag to enable TensorFlow eager execution\n",
      "2020-05-01 18:20:32,127\tERROR syncer.py:39 -- Log sync requires rsync to be installed.\n",
      "2020-05-01 18:20:32,143\tWARNING deprecation.py:30 -- DeprecationWarning: `callbacks dict interface` has been deprecated. Use `a class extending rllib.agents.callbacks.DefaultCallbacks` instead. This will raise an error in the future!\n",
      "2020-05-01 18:20:32,154\tINFO trainer.py:580 -- Current log_level is WARN. For more information, set 'log_level': 'INFO' / 'DEBUG' or use the -v and -vv flags.\n",
      "2020-05-01 18:20:32,157\tWARNING deprecation.py:30 -- DeprecationWarning: `callbacks dict interface` has been deprecated. Use `a class extending rllib.agents.callbacks.DefaultCallbacks` instead. This will raise an error in the future!\n"
     ]
    },
    {
     "name": "stdout",
     "output_type": "stream",
     "text": [
      "\u001b[2m\u001b[36m(pid=21476)\u001b[0m /home/victor/anaconda3/lib/python3.6/site-packages/h5py/__init__.py:34: FutureWarning: Conversion of the second argument of issubdtype from `float` to `np.floating` is deprecated. In future, it will be treated as `np.float64 == np.dtype(float).type`.\n",
      "\u001b[2m\u001b[36m(pid=21476)\u001b[0m   from ._conv import register_converters as _register_converters\n",
      "\u001b[2m\u001b[36m(pid=21479)\u001b[0m /home/victor/anaconda3/lib/python3.6/site-packages/h5py/__init__.py:34: FutureWarning: Conversion of the second argument of issubdtype from `float` to `np.floating` is deprecated. In future, it will be treated as `np.float64 == np.dtype(float).type`.\n",
      "\u001b[2m\u001b[36m(pid=21479)\u001b[0m   from ._conv import register_converters as _register_converters\n",
      "\u001b[2m\u001b[36m(pid=21476)\u001b[0m 2020-05-01 18:20:37,681\tWARNING deprecation.py:30 -- DeprecationWarning: `callbacks dict interface` has been deprecated. Use `a class extending rllib.agents.callbacks.DefaultCallbacks` instead. This will raise an error in the future!\n",
      "\u001b[2m\u001b[36m(pid=21479)\u001b[0m 2020-05-01 18:20:37,680\tWARNING deprecation.py:30 -- DeprecationWarning: `callbacks dict interface` has been deprecated. Use `a class extending rllib.agents.callbacks.DefaultCallbacks` instead. This will raise an error in the future!\n"
     ]
    },
    {
     "name": "stderr",
     "output_type": "stream",
     "text": [
      "2020-05-01 18:20:44,224\tINFO trainable.py:180 -- _setup took 12.096 seconds. If your trainable is slow to initialize, consider setting reuse_actors=True to reduce actor creation overheads.\n",
      "2020-05-01 18:20:44,224\tINFO trainable.py:217 -- Getting current IP.\n",
      "2020-05-01 18:20:44,225\tWARNING util.py:37 -- Install gputil for GPU system monitoring.\n"
     ]
    },
    {
     "name": "stdout",
     "output_type": "stream",
     "text": [
      "TRAINING 0\n"
     ]
    },
    {
     "name": "stderr",
     "output_type": "stream",
     "text": [
      "2020-05-01 18:20:59,243\tERROR syncer.py:39 -- Log sync requires rsync to be installed.\n",
      "2020-05-01 18:20:59,247\tWARNING deprecation.py:30 -- DeprecationWarning: `callbacks dict interface` has been deprecated. Use `a class extending rllib.agents.callbacks.DefaultCallbacks` instead. This will raise an error in the future!\n",
      "2020-05-01 18:20:59,249\tWARNING deprecation.py:30 -- DeprecationWarning: `callbacks dict interface` has been deprecated. Use `a class extending rllib.agents.callbacks.DefaultCallbacks` instead. This will raise an error in the future!\n"
     ]
    },
    {
     "name": "stdout",
     "output_type": "stream",
     "text": [
      "{'true_reward_agent_0_mean': 0.03756694135183352, 'true_reward_agent_0_min': -11.161653373390436, 'true_reward_agent_0_max': 13.276019763201475, 'true_reward_agent_1_mean': -0.10956777687722934, 'true_reward_agent_1_min': -8.476056843996048, 'true_reward_agent_1_max': 10.152477540075779}\n",
      "gen\tnevals\tavg       \tstd      \tmin      \tmax      \n",
      "0  \t2     \t-0.0360004\t0.0735674\t-0.109568\t0.0375669\n",
      "population [array('d', [0.20648538863864574, 0.9449407262866085]), array('d', [0.7427680835626531, -0.7364128030419501])]\n",
      "\u001b[2m\u001b[36m(pid=21477)\u001b[0m /home/victor/anaconda3/lib/python3.6/site-packages/h5py/__init__.py:34: FutureWarning: Conversion of the second argument of issubdtype from `float` to `np.floating` is deprecated. In future, it will be treated as `np.float64 == np.dtype(float).type`.\n",
      "\u001b[2m\u001b[36m(pid=21477)\u001b[0m   from ._conv import register_converters as _register_converters\n",
      "\u001b[2m\u001b[36m(pid=21478)\u001b[0m /home/victor/anaconda3/lib/python3.6/site-packages/h5py/__init__.py:34: FutureWarning: Conversion of the second argument of issubdtype from `float` to `np.floating` is deprecated. In future, it will be treated as `np.float64 == np.dtype(float).type`.\n",
      "\u001b[2m\u001b[36m(pid=21478)\u001b[0m   from ._conv import register_converters as _register_converters\n",
      "\u001b[2m\u001b[36m(pid=21477)\u001b[0m 2020-05-01 18:21:04,859\tWARNING deprecation.py:30 -- DeprecationWarning: `callbacks dict interface` has been deprecated. Use `a class extending rllib.agents.callbacks.DefaultCallbacks` instead. This will raise an error in the future!\n",
      "\u001b[2m\u001b[36m(pid=21478)\u001b[0m 2020-05-01 18:21:04,942\tWARNING deprecation.py:30 -- DeprecationWarning: `callbacks dict interface` has been deprecated. Use `a class extending rllib.agents.callbacks.DefaultCallbacks` instead. This will raise an error in the future!\n"
     ]
    },
    {
     "name": "stderr",
     "output_type": "stream",
     "text": [
      "2020-05-01 18:21:11,288\tINFO trainable.py:180 -- _setup took 12.044 seconds. If your trainable is slow to initialize, consider setting reuse_actors=True to reduce actor creation overheads.\n",
      "2020-05-01 18:21:11,288\tINFO trainable.py:217 -- Getting current IP.\n",
      "2020-05-01 18:21:11,289\tWARNING util.py:37 -- Install gputil for GPU system monitoring.\n"
     ]
    },
    {
     "name": "stdout",
     "output_type": "stream",
     "text": [
      "TRAINING 0\n"
     ]
    },
    {
     "name": "stderr",
     "output_type": "stream",
     "text": [
      "2020-05-01 18:21:24,543\tERROR syncer.py:39 -- Log sync requires rsync to be installed.\n",
      "2020-05-01 18:21:24,546\tWARNING deprecation.py:30 -- DeprecationWarning: `callbacks dict interface` has been deprecated. Use `a class extending rllib.agents.callbacks.DefaultCallbacks` instead. This will raise an error in the future!\n",
      "2020-05-01 18:21:24,550\tWARNING deprecation.py:30 -- DeprecationWarning: `callbacks dict interface` has been deprecated. Use `a class extending rllib.agents.callbacks.DefaultCallbacks` instead. This will raise an error in the future!\n"
     ]
    },
    {
     "name": "stdout",
     "output_type": "stream",
     "text": [
      "{'true_reward_agent_0_mean': 0.23975717608933336, 'true_reward_agent_0_min': -10.19001753628254, 'true_reward_agent_0_max': 12.544879822060466, 'true_reward_agent_1_mean': 0.06006226800498553, 'true_reward_agent_1_min': -9.059437803924084, 'true_reward_agent_1_max': 13.95145052485168}\n",
      "1  \t2     \t0.14991   \t0.0898475\t0.0600623\t0.239757 \n",
      "population [array('d', [0.20648538863864574, 0.9449407262866085]), array('d', [0.20648538863864574, 0.9449407262866085])]\n",
      "\u001b[2m\u001b[36m(pid=21680)\u001b[0m /home/victor/anaconda3/lib/python3.6/site-packages/h5py/__init__.py:34: FutureWarning: Conversion of the second argument of issubdtype from `float` to `np.floating` is deprecated. In future, it will be treated as `np.float64 == np.dtype(float).type`.\n",
      "\u001b[2m\u001b[36m(pid=21680)\u001b[0m   from ._conv import register_converters as _register_converters\n",
      "\u001b[2m\u001b[36m(pid=21681)\u001b[0m /home/victor/anaconda3/lib/python3.6/site-packages/h5py/__init__.py:34: FutureWarning: Conversion of the second argument of issubdtype from `float` to `np.floating` is deprecated. In future, it will be treated as `np.float64 == np.dtype(float).type`.\n",
      "\u001b[2m\u001b[36m(pid=21681)\u001b[0m   from ._conv import register_converters as _register_converters\n",
      "\u001b[2m\u001b[36m(pid=21680)\u001b[0m 2020-05-01 18:21:30,496\tWARNING deprecation.py:30 -- DeprecationWarning: `callbacks dict interface` has been deprecated. Use `a class extending rllib.agents.callbacks.DefaultCallbacks` instead. This will raise an error in the future!\n",
      "\u001b[2m\u001b[36m(pid=21681)\u001b[0m 2020-05-01 18:21:30,528\tWARNING deprecation.py:30 -- DeprecationWarning: `callbacks dict interface` has been deprecated. Use `a class extending rllib.agents.callbacks.DefaultCallbacks` instead. This will raise an error in the future!\n"
     ]
    },
    {
     "name": "stderr",
     "output_type": "stream",
     "text": [
      "2020-05-01 18:21:34,926\tINFO trainable.py:180 -- _setup took 10.382 seconds. If your trainable is slow to initialize, consider setting reuse_actors=True to reduce actor creation overheads.\n",
      "2020-05-01 18:21:34,926\tINFO trainable.py:217 -- Getting current IP.\n",
      "2020-05-01 18:21:34,927\tWARNING util.py:37 -- Install gputil for GPU system monitoring.\n"
     ]
    },
    {
     "name": "stdout",
     "output_type": "stream",
     "text": [
      "TRAINING 0\n"
     ]
    },
    {
     "name": "stderr",
     "output_type": "stream",
     "text": [
      "2020-05-01 18:21:47,337\tERROR syncer.py:39 -- Log sync requires rsync to be installed.\n",
      "2020-05-01 18:21:47,341\tWARNING deprecation.py:30 -- DeprecationWarning: `callbacks dict interface` has been deprecated. Use `a class extending rllib.agents.callbacks.DefaultCallbacks` instead. This will raise an error in the future!\n",
      "2020-05-01 18:21:47,345\tWARNING deprecation.py:30 -- DeprecationWarning: `callbacks dict interface` has been deprecated. Use `a class extending rllib.agents.callbacks.DefaultCallbacks` instead. This will raise an error in the future!\n"
     ]
    },
    {
     "name": "stdout",
     "output_type": "stream",
     "text": [
      "{'true_reward_agent_0_mean': 0.15385467280924786, 'true_reward_agent_0_min': -10.189899362623692, 'true_reward_agent_0_max': 11.356867156922817, 'true_reward_agent_1_mean': -0.029693590827519073, 'true_reward_agent_1_min': -9.830810934305191, 'true_reward_agent_1_max': 11.208028465509415}\n",
      "2  \t2     \t0.0620805 \t0.0917741\t-0.0296936\t0.153855 \n",
      "population [array('d', [0.20648538863864574, 0.9449407262866085]), array('d', [0.20648538863864574, 0.9449407262866085])]\n",
      "\u001b[2m\u001b[36m(pid=21691)\u001b[0m /home/victor/anaconda3/lib/python3.6/site-packages/h5py/__init__.py:34: FutureWarning: Conversion of the second argument of issubdtype from `float` to `np.floating` is deprecated. In future, it will be treated as `np.float64 == np.dtype(float).type`.\n",
      "\u001b[2m\u001b[36m(pid=21691)\u001b[0m   from ._conv import register_converters as _register_converters\n",
      "\u001b[2m\u001b[36m(pid=21756)\u001b[0m /home/victor/anaconda3/lib/python3.6/site-packages/h5py/__init__.py:34: FutureWarning: Conversion of the second argument of issubdtype from `float` to `np.floating` is deprecated. In future, it will be treated as `np.float64 == np.dtype(float).type`.\n",
      "\u001b[2m\u001b[36m(pid=21756)\u001b[0m   from ._conv import register_converters as _register_converters\n",
      "\u001b[2m\u001b[36m(pid=21691)\u001b[0m 2020-05-01 18:21:52,156\tWARNING deprecation.py:30 -- DeprecationWarning: `callbacks dict interface` has been deprecated. Use `a class extending rllib.agents.callbacks.DefaultCallbacks` instead. This will raise an error in the future!\n",
      "\u001b[2m\u001b[36m(pid=21756)\u001b[0m 2020-05-01 18:21:52,792\tWARNING deprecation.py:30 -- DeprecationWarning: `callbacks dict interface` has been deprecated. Use `a class extending rllib.agents.callbacks.DefaultCallbacks` instead. This will raise an error in the future!\n"
     ]
    },
    {
     "name": "stderr",
     "output_type": "stream",
     "text": [
      "2020-05-01 18:21:57,412\tINFO trainable.py:180 -- _setup took 10.074 seconds. If your trainable is slow to initialize, consider setting reuse_actors=True to reduce actor creation overheads.\n",
      "2020-05-01 18:21:57,412\tINFO trainable.py:217 -- Getting current IP.\n",
      "2020-05-01 18:21:57,413\tWARNING util.py:37 -- Install gputil for GPU system monitoring.\n"
     ]
    },
    {
     "name": "stdout",
     "output_type": "stream",
     "text": [
      "TRAINING 0\n"
     ]
    },
    {
     "name": "stderr",
     "output_type": "stream",
     "text": [
      "2020-05-01 18:22:10,664\tERROR syncer.py:39 -- Log sync requires rsync to be installed.\n",
      "2020-05-01 18:22:10,668\tWARNING deprecation.py:30 -- DeprecationWarning: `callbacks dict interface` has been deprecated. Use `a class extending rllib.agents.callbacks.DefaultCallbacks` instead. This will raise an error in the future!\n",
      "2020-05-01 18:22:10,672\tWARNING deprecation.py:30 -- DeprecationWarning: `callbacks dict interface` has been deprecated. Use `a class extending rllib.agents.callbacks.DefaultCallbacks` instead. This will raise an error in the future!\n"
     ]
    },
    {
     "name": "stdout",
     "output_type": "stream",
     "text": [
      "{'true_reward_agent_0_mean': 0.22241822504540323, 'true_reward_agent_0_min': -8.477941878139973, 'true_reward_agent_0_max': 10.06483324430883, 'true_reward_agent_1_mean': 0.056403907984640685, 'true_reward_agent_1_min': -10.319582909345627, 'true_reward_agent_1_max': 12.826640412211418}\n",
      "3  \t2     \t0.139411  \t0.0830072\t0.0564039 \t0.222418 \n",
      "population [array('d', [0.20648538863864574, 0.9449407262866085]), array('d', [0.20648538863864574, 0.9449407262866085])]\n",
      "\u001b[2m\u001b[36m(pid=21805)\u001b[0m /home/victor/anaconda3/lib/python3.6/site-packages/h5py/__init__.py:34: FutureWarning: Conversion of the second argument of issubdtype from `float` to `np.floating` is deprecated. In future, it will be treated as `np.float64 == np.dtype(float).type`.\n",
      "\u001b[2m\u001b[36m(pid=21805)\u001b[0m   from ._conv import register_converters as _register_converters\n",
      "\u001b[2m\u001b[36m(pid=21804)\u001b[0m /home/victor/anaconda3/lib/python3.6/site-packages/h5py/__init__.py:34: FutureWarning: Conversion of the second argument of issubdtype from `float` to `np.floating` is deprecated. In future, it will be treated as `np.float64 == np.dtype(float).type`.\n",
      "\u001b[2m\u001b[36m(pid=21804)\u001b[0m   from ._conv import register_converters as _register_converters\n",
      "\u001b[2m\u001b[36m(pid=21805)\u001b[0m 2020-05-01 18:22:16,672\tWARNING deprecation.py:30 -- DeprecationWarning: `callbacks dict interface` has been deprecated. Use `a class extending rllib.agents.callbacks.DefaultCallbacks` instead. This will raise an error in the future!\n",
      "\u001b[2m\u001b[36m(pid=21804)\u001b[0m 2020-05-01 18:22:16,685\tWARNING deprecation.py:30 -- DeprecationWarning: `callbacks dict interface` has been deprecated. Use `a class extending rllib.agents.callbacks.DefaultCallbacks` instead. This will raise an error in the future!\n"
     ]
    },
    {
     "name": "stderr",
     "output_type": "stream",
     "text": [
      "2020-05-01 18:22:20,757\tINFO trainable.py:180 -- _setup took 10.092 seconds. If your trainable is slow to initialize, consider setting reuse_actors=True to reduce actor creation overheads.\n",
      "2020-05-01 18:22:20,758\tINFO trainable.py:217 -- Getting current IP.\n",
      "2020-05-01 18:22:20,758\tWARNING util.py:37 -- Install gputil for GPU system monitoring.\n"
     ]
    },
    {
     "name": "stdout",
     "output_type": "stream",
     "text": [
      "TRAINING 0\n"
     ]
    },
    {
     "name": "stderr",
     "output_type": "stream",
     "text": [
      "2020-05-01 18:22:31,676\tERROR syncer.py:39 -- Log sync requires rsync to be installed.\n",
      "2020-05-01 18:22:31,680\tWARNING deprecation.py:30 -- DeprecationWarning: `callbacks dict interface` has been deprecated. Use `a class extending rllib.agents.callbacks.DefaultCallbacks` instead. This will raise an error in the future!\n",
      "2020-05-01 18:22:31,683\tWARNING deprecation.py:30 -- DeprecationWarning: `callbacks dict interface` has been deprecated. Use `a class extending rllib.agents.callbacks.DefaultCallbacks` instead. This will raise an error in the future!\n"
     ]
    },
    {
     "name": "stdout",
     "output_type": "stream",
     "text": [
      "{'true_reward_agent_0_mean': -0.02600069275329588, 'true_reward_agent_0_min': -9.952376767992973, 'true_reward_agent_0_max': 11.10350951552391, 'true_reward_agent_1_mean': -0.17998861341446173, 'true_reward_agent_1_min': -9.096396651118994, 'true_reward_agent_1_max': 11.078842505812645}\n",
      "4  \t2     \t-0.102995 \t0.076994 \t-0.179989 \t-0.0260007\n",
      "population [array('d', [0.20648538863864574, 0.9449407262866085]), array('d', [0.20648538863864574, 0.9449407262866085])]\n",
      "\u001b[2m\u001b[36m(pid=21815)\u001b[0m /home/victor/anaconda3/lib/python3.6/site-packages/h5py/__init__.py:34: FutureWarning: Conversion of the second argument of issubdtype from `float` to `np.floating` is deprecated. In future, it will be treated as `np.float64 == np.dtype(float).type`.\n",
      "\u001b[2m\u001b[36m(pid=21815)\u001b[0m   from ._conv import register_converters as _register_converters\n",
      "\u001b[2m\u001b[36m(pid=21899)\u001b[0m /home/victor/anaconda3/lib/python3.6/site-packages/h5py/__init__.py:34: FutureWarning: Conversion of the second argument of issubdtype from `float` to `np.floating` is deprecated. In future, it will be treated as `np.float64 == np.dtype(float).type`.\n",
      "\u001b[2m\u001b[36m(pid=21899)\u001b[0m   from ._conv import register_converters as _register_converters\n",
      "\u001b[2m\u001b[36m(pid=21815)\u001b[0m 2020-05-01 18:22:36,514\tWARNING deprecation.py:30 -- DeprecationWarning: `callbacks dict interface` has been deprecated. Use `a class extending rllib.agents.callbacks.DefaultCallbacks` instead. This will raise an error in the future!\n",
      "\u001b[2m\u001b[36m(pid=21899)\u001b[0m 2020-05-01 18:22:37,039\tWARNING deprecation.py:30 -- DeprecationWarning: `callbacks dict interface` has been deprecated. Use `a class extending rllib.agents.callbacks.DefaultCallbacks` instead. This will raise an error in the future!\n"
     ]
    },
    {
     "name": "stderr",
     "output_type": "stream",
     "text": [
      "2020-05-01 18:22:41,259\tINFO trainable.py:217 -- Getting current IP.\n",
      "2020-05-01 18:22:41,260\tWARNING util.py:37 -- Install gputil for GPU system monitoring.\n"
     ]
    },
    {
     "name": "stdout",
     "output_type": "stream",
     "text": [
      "TRAINING 0\n"
     ]
    },
    {
     "name": "stderr",
     "output_type": "stream",
     "text": [
      "2020-05-01 18:22:53,657\tERROR syncer.py:39 -- Log sync requires rsync to be installed.\n",
      "2020-05-01 18:22:53,667\tWARNING deprecation.py:30 -- DeprecationWarning: `callbacks dict interface` has been deprecated. Use `a class extending rllib.agents.callbacks.DefaultCallbacks` instead. This will raise an error in the future!\n",
      "2020-05-01 18:22:53,673\tWARNING deprecation.py:30 -- DeprecationWarning: `callbacks dict interface` has been deprecated. Use `a class extending rllib.agents.callbacks.DefaultCallbacks` instead. This will raise an error in the future!\n"
     ]
    },
    {
     "name": "stdout",
     "output_type": "stream",
     "text": [
      "{'true_reward_agent_0_mean': -0.1166890021537256, 'true_reward_agent_0_min': -9.969804869964719, 'true_reward_agent_0_max': 12.08322006650269, 'true_reward_agent_1_mean': -0.06696844699588837, 'true_reward_agent_1_min': -9.445517014712095, 'true_reward_agent_1_max': 10.301758158486336}\n",
      "5  \t2     \t-0.0918287\t0.0248603\t-0.116689 \t-0.0669684\n",
      "population [array('d', [0.20648538863864574, 0.9449407262866085]), array('d', [0.20648538863864574, 0.9449407262866085])]\n",
      "\u001b[2m\u001b[36m(pid=21942)\u001b[0m /home/victor/anaconda3/lib/python3.6/site-packages/h5py/__init__.py:34: FutureWarning: Conversion of the second argument of issubdtype from `float` to `np.floating` is deprecated. In future, it will be treated as `np.float64 == np.dtype(float).type`.\n",
      "\u001b[2m\u001b[36m(pid=21942)\u001b[0m   from ._conv import register_converters as _register_converters\n",
      "\u001b[2m\u001b[36m(pid=21943)\u001b[0m /home/victor/anaconda3/lib/python3.6/site-packages/h5py/__init__.py:34: FutureWarning: Conversion of the second argument of issubdtype from `float` to `np.floating` is deprecated. In future, it will be treated as `np.float64 == np.dtype(float).type`.\n",
      "\u001b[2m\u001b[36m(pid=21943)\u001b[0m   from ._conv import register_converters as _register_converters\n",
      "\u001b[2m\u001b[36m(pid=21942)\u001b[0m 2020-05-01 18:23:00,114\tWARNING deprecation.py:30 -- DeprecationWarning: `callbacks dict interface` has been deprecated. Use `a class extending rllib.agents.callbacks.DefaultCallbacks` instead. This will raise an error in the future!\n",
      "\u001b[2m\u001b[36m(pid=21943)\u001b[0m 2020-05-01 18:23:00,159\tWARNING deprecation.py:30 -- DeprecationWarning: `callbacks dict interface` has been deprecated. Use `a class extending rllib.agents.callbacks.DefaultCallbacks` instead. This will raise an error in the future!\n"
     ]
    },
    {
     "name": "stderr",
     "output_type": "stream",
     "text": [
      "2020-05-01 18:23:04,716\tINFO trainable.py:180 -- _setup took 11.058 seconds. If your trainable is slow to initialize, consider setting reuse_actors=True to reduce actor creation overheads.\n",
      "2020-05-01 18:23:04,716\tINFO trainable.py:217 -- Getting current IP.\n",
      "2020-05-01 18:23:04,717\tWARNING util.py:37 -- Install gputil for GPU system monitoring.\n"
     ]
    },
    {
     "name": "stdout",
     "output_type": "stream",
     "text": [
      "TRAINING 0\n"
     ]
    },
    {
     "name": "stderr",
     "output_type": "stream",
     "text": [
      "2020-05-01 18:23:16,911\tERROR syncer.py:39 -- Log sync requires rsync to be installed.\n",
      "2020-05-01 18:23:16,918\tWARNING deprecation.py:30 -- DeprecationWarning: `callbacks dict interface` has been deprecated. Use `a class extending rllib.agents.callbacks.DefaultCallbacks` instead. This will raise an error in the future!\n",
      "2020-05-01 18:23:16,922\tWARNING deprecation.py:30 -- DeprecationWarning: `callbacks dict interface` has been deprecated. Use `a class extending rllib.agents.callbacks.DefaultCallbacks` instead. This will raise an error in the future!\n"
     ]
    },
    {
     "name": "stdout",
     "output_type": "stream",
     "text": [
      "{'true_reward_agent_0_mean': 0.45557168089348127, 'true_reward_agent_0_min': -10.161150507628918, 'true_reward_agent_0_max': 12.297522947192192, 'true_reward_agent_1_mean': 0.17268789970723447, 'true_reward_agent_1_min': -7.923732131719589, 'true_reward_agent_1_max': 15.358057230710983}\n",
      "6  \t2     \t0.31413   \t0.141442 \t0.172688  \t0.455572  \n",
      "population [array('d', [0.20648538863864574, 0.9449407262866085]), array('d', [0.20648538863864574, 0.9449407262866085])]\n",
      "\u001b[2m\u001b[36m(pid=21953)\u001b[0m /home/victor/anaconda3/lib/python3.6/site-packages/h5py/__init__.py:34: FutureWarning: Conversion of the second argument of issubdtype from `float` to `np.floating` is deprecated. In future, it will be treated as `np.float64 == np.dtype(float).type`.\n",
      "\u001b[2m\u001b[36m(pid=21953)\u001b[0m   from ._conv import register_converters as _register_converters\n",
      "\u001b[2m\u001b[36m(pid=22011)\u001b[0m /home/victor/anaconda3/lib/python3.6/site-packages/h5py/__init__.py:34: FutureWarning: Conversion of the second argument of issubdtype from `float` to `np.floating` is deprecated. In future, it will be treated as `np.float64 == np.dtype(float).type`.\n",
      "\u001b[2m\u001b[36m(pid=22011)\u001b[0m   from ._conv import register_converters as _register_converters\n",
      "\u001b[2m\u001b[36m(pid=21953)\u001b[0m 2020-05-01 18:23:21,778\tWARNING deprecation.py:30 -- DeprecationWarning: `callbacks dict interface` has been deprecated. Use `a class extending rllib.agents.callbacks.DefaultCallbacks` instead. This will raise an error in the future!\n",
      "\u001b[2m\u001b[36m(pid=22011)\u001b[0m 2020-05-01 18:23:22,275\tWARNING deprecation.py:30 -- DeprecationWarning: `callbacks dict interface` has been deprecated. Use `a class extending rllib.agents.callbacks.DefaultCallbacks` instead. This will raise an error in the future!\n"
     ]
    },
    {
     "name": "stderr",
     "output_type": "stream",
     "text": [
      "2020-05-01 18:23:27,061\tINFO trainable.py:180 -- _setup took 10.150 seconds. If your trainable is slow to initialize, consider setting reuse_actors=True to reduce actor creation overheads.\n",
      "2020-05-01 18:23:27,062\tINFO trainable.py:217 -- Getting current IP.\n",
      "2020-05-01 18:23:27,062\tWARNING util.py:37 -- Install gputil for GPU system monitoring.\n"
     ]
    },
    {
     "name": "stdout",
     "output_type": "stream",
     "text": [
      "TRAINING 0\n"
     ]
    },
    {
     "name": "stderr",
     "output_type": "stream",
     "text": [
      "2020-05-01 18:23:38,148\tERROR syncer.py:39 -- Log sync requires rsync to be installed.\n",
      "2020-05-01 18:23:38,152\tWARNING deprecation.py:30 -- DeprecationWarning: `callbacks dict interface` has been deprecated. Use `a class extending rllib.agents.callbacks.DefaultCallbacks` instead. This will raise an error in the future!\n",
      "2020-05-01 18:23:38,155\tWARNING deprecation.py:30 -- DeprecationWarning: `callbacks dict interface` has been deprecated. Use `a class extending rllib.agents.callbacks.DefaultCallbacks` instead. This will raise an error in the future!\n"
     ]
    },
    {
     "name": "stdout",
     "output_type": "stream",
     "text": [
      "{'true_reward_agent_0_mean': 0.029819701506348793, 'true_reward_agent_0_min': -10.745631858706474, 'true_reward_agent_0_max': 16.052101224660873, 'true_reward_agent_1_mean': 0.05103973401564872, 'true_reward_agent_1_min': -10.615283349528909, 'true_reward_agent_1_max': 14.068140298128128}\n",
      "7  \t2     \t0.0404297 \t0.01061  \t0.0298197 \t0.0510397 \n",
      "population [array('d', [0.20648538863864574, 0.9449407262866085]), array('d', [0.20648538863864574, 0.9449407262866085])]\n",
      "\u001b[2m\u001b[36m(pid=22058)\u001b[0m /home/victor/anaconda3/lib/python3.6/site-packages/h5py/__init__.py:34: FutureWarning: Conversion of the second argument of issubdtype from `float` to `np.floating` is deprecated. In future, it will be treated as `np.float64 == np.dtype(float).type`.\n",
      "\u001b[2m\u001b[36m(pid=22058)\u001b[0m   from ._conv import register_converters as _register_converters\n",
      "\u001b[2m\u001b[36m(pid=22059)\u001b[0m /home/victor/anaconda3/lib/python3.6/site-packages/h5py/__init__.py:34: FutureWarning: Conversion of the second argument of issubdtype from `float` to `np.floating` is deprecated. In future, it will be treated as `np.float64 == np.dtype(float).type`.\n",
      "\u001b[2m\u001b[36m(pid=22059)\u001b[0m   from ._conv import register_converters as _register_converters\n",
      "\u001b[2m\u001b[36m(pid=22058)\u001b[0m 2020-05-01 18:23:43,930\tWARNING deprecation.py:30 -- DeprecationWarning: `callbacks dict interface` has been deprecated. Use `a class extending rllib.agents.callbacks.DefaultCallbacks` instead. This will raise an error in the future!\n",
      "\u001b[2m\u001b[36m(pid=22059)\u001b[0m 2020-05-01 18:23:43,909\tWARNING deprecation.py:30 -- DeprecationWarning: `callbacks dict interface` has been deprecated. Use `a class extending rllib.agents.callbacks.DefaultCallbacks` instead. This will raise an error in the future!\n"
     ]
    },
    {
     "name": "stderr",
     "output_type": "stream",
     "text": [
      "2020-05-01 18:23:48,510\tINFO trainable.py:180 -- _setup took 10.361 seconds. If your trainable is slow to initialize, consider setting reuse_actors=True to reduce actor creation overheads.\n",
      "2020-05-01 18:23:48,510\tINFO trainable.py:217 -- Getting current IP.\n",
      "2020-05-01 18:23:48,511\tWARNING util.py:37 -- Install gputil for GPU system monitoring.\n"
     ]
    },
    {
     "name": "stdout",
     "output_type": "stream",
     "text": [
      "TRAINING 0\n"
     ]
    }
   ],
   "source": [
    "# A proof of concept showing using a genetic algorithm with our environment.\n",
    "# It is similar to https://github.com/DEAP/deap/blob/a0b78956e28387785e3bb6e2b4b1f1b32c2b3883/examples/ga/onemax_short.py\n",
    "\n",
    "import array\n",
    "import random\n",
    "\n",
    "import numpy as np\n",
    "\n",
    "from deap import algorithms\n",
    "from deap import base\n",
    "from deap import creator\n",
    "from deap import tools\n",
    "import gym\n",
    "from environments.SimpleEnv import SimpleEnv\n",
    "\n",
    "from ray.rllib.agents import ppo\n",
    "from ray import tune\n",
    "from ray.rllib.policy.policy import Policy\n",
    "from ray.rllib.env.multi_agent_env import MultiAgentEnv\n",
    "import ray\n",
    "\n",
    "ray.init()\n",
    "\n",
    "\n",
    "creator.create('FitnessMax', base.Fitness, weights=(1.0, ))\n",
    "creator.create('Individual', array.array, typecode='d',\n",
    "               fitness=creator.FitnessMax)\n",
    "\n",
    "toolbox = base.Toolbox()\n",
    "\n",
    "toolbox.register('attr', random.uniform, -1, 1)\n",
    "toolbox.register('individual', tools.initRepeat, creator.Individual,\n",
    "                 toolbox.attr, 2)\n",
    "toolbox.register('population', tools.initRepeat, list,\n",
    "                 toolbox.individual)\n",
    "\n",
    "\n",
    "def evaluate(pop):\n",
    "    \"\"\"Runs the environment. Selects random agents from pop.\n",
    "  It returns the total true reward as the fitness.\n",
    "  TODO: Assumes n_agents is 2.\n",
    "  TODO: This is very slow, can we train the whole population at the same time?\n",
    "  \"\"\"\n",
    "    \n",
    "    #Select random individuals from pop and create the reward weights\n",
    "    pop = np.array(pop)\n",
    "    reward_weights = pop\n",
    "    #print(individual, reward_weights)\n",
    "    \n",
    "    #env is only to get action space and observation space\n",
    "    env = SimpleEnv(config={\n",
    "        'n_agents': 2,\n",
    "        'n_vars': 2,\n",
    "        'reward_weights': reward_weights,\n",
    "        'max_step_count': 10,\n",
    "    })\n",
    "    \n",
    "    #Callback functions to keep track of true reward while training\n",
    "    def on_episode_start(info):\n",
    "        episode = info[\"episode\"]\n",
    "        episode.user_data[\"true_rewards\"] = np.zeros(2)#TODO: change to n_agents\n",
    "\n",
    "    def on_episode_step(info):\n",
    "        episode = info[\"episode\"]\n",
    "        env = info[\"env\"]\n",
    "        #print(env.env_states[0].env.last_true_reward)\n",
    "        true_reward = env.env_states[0].env.last_true_reward\n",
    "        episode.user_data[\"true_rewards\"] += true_reward\n",
    "\n",
    "    def on_episode_end(info):\n",
    "        episode = info[\"episode\"]\n",
    "        true_reward = episode.user_data[\"true_rewards\"]\n",
    "        for i, r in enumerate(true_reward):\n",
    "            episode.custom_metrics[\"true_reward_agent_\" + str(i)] = r\n",
    "        \n",
    "    trainer = ppo.PPOTrainer(env=SimpleEnv, config={\n",
    "        \"multiagent\": {\n",
    "            \"policies\": {\n",
    "                # the first tuple value is None -> uses default policy\n",
    "                \"agent_0\": (None, env.observation_space, env.action_space, {}),\n",
    "                \"agent_1\": (None, env.observation_space, env.action_space, {}),\n",
    "            },\n",
    "            \"policy_mapping_fn\":\n",
    "                lambda agent_id:\n",
    "                    agent_id\n",
    "        },\n",
    "        'env_config': {\n",
    "            'n_agents': 2,\n",
    "            'n_vars': 2,\n",
    "            'reward_weights': reward_weights,\n",
    "            'max_step_count': 10,\n",
    "        },\n",
    "        \"callbacks\": {\n",
    "            \"on_episode_start\": on_episode_start,\n",
    "            \"on_episode_step\": on_episode_step,\n",
    "            \"on_episode_end\": on_episode_end,\n",
    "        },\n",
    "    })\n",
    "    \n",
    "    true_reward_mean = []\n",
    "    for i in range(1):\n",
    "        print('TRAINING', i)\n",
    "        custom_metrics = trainer.train()['custom_metrics']  # distributed training step\n",
    "        print(custom_metrics)\n",
    "        true_reward_mean = [(custom_metrics['true_reward_agent_0_mean'], ), (custom_metrics['true_reward_agent_1_mean'], )]\n",
    "        \n",
    "    #print('true reward', trainer.collect_metrics()['custom_metrics']['true_reward_mean'])\n",
    "    return true_reward_mean\n",
    "\n",
    "\n",
    "toolbox.register('evaluate', evaluate)\n",
    "toolbox.register('mate', tools.cxTwoPoint)\n",
    "toolbox.register('mutate', tools.mutFlipBit, indpb=0.05)\n",
    "toolbox.register('select', tools.selTournament, tournsize=3)\n",
    "\n",
    "def evolve(population, toolbox, cxpb, mutpb, ngen, stats=None, \n",
    "           halloffame=None, verbose=__debug__):\n",
    "    \"\"\"\n",
    "    Almost identical to deap.algorithms.eaSimple. \n",
    "    \n",
    "    TODO: Sometimes all individuals become identical for some reason\n",
    "    Runtime is O(pop size * ngen * RL iterations) with a huge constant. \n",
    "    Easily parralizable, but we can remove the pop size factor by training the\n",
    "    entire population at once. Requires environments to support many agents.\n",
    "    \"\"\"\n",
    "    \n",
    "    logbook = tools.Logbook()\n",
    "    logbook.header = ['gen', 'nevals'] + (stats.fields if stats else [])\n",
    "\n",
    "    # Evaluate the individuals with an invalid fitness\n",
    "    invalid_ind = [ind for ind in population]\n",
    "    #print('population1', population)\n",
    "    fitnesses = evaluate(invalid_ind)\n",
    "    for ind, fit in zip(invalid_ind, fitnesses):\n",
    "        ind.fitness.values = fit\n",
    "\n",
    "    #print('population2', population)\n",
    "    if halloffame is not None:\n",
    "        halloffame.update(population)\n",
    "\n",
    "    record = stats.compile(population) if stats else {}\n",
    "    logbook.record(gen=0, nevals=len(invalid_ind), **record)\n",
    "    if verbose:\n",
    "        print(logbook.stream)\n",
    "\n",
    "    # Begin the generational process\n",
    "    for gen in range(1, ngen + 1):\n",
    "        # Select the next generation individuals\n",
    "        print('population', population)\n",
    "        offspring = toolbox.select(population, len(population))\n",
    "\n",
    "        # Vary the pool of individuals\n",
    "        offspring = algorithms.varAnd(offspring, toolbox, cxpb, mutpb)\n",
    "\n",
    "        # Evaluate the individuals with an invalid fitness\n",
    "        invalid_ind = [ind for ind in offspring]\n",
    "        fitnesses = evaluate(invalid_ind)\n",
    "        for ind, fit in zip(invalid_ind, fitnesses):\n",
    "            ind.fitness.values = fit\n",
    "\n",
    "        # Update the hall of fame with the generated individuals\n",
    "        if halloffame is not None:\n",
    "            halloffame.update(offspring)\n",
    "\n",
    "        # Replace the current population by the offspring\n",
    "        population[:] = offspring\n",
    "\n",
    "        # Append the current generation statistics to the logbook\n",
    "        record = stats.compile(population) if stats else {}\n",
    "        logbook.record(gen=gen, nevals=len(invalid_ind), **record)\n",
    "        if verbose:\n",
    "            print(logbook.stream)\n",
    "\n",
    "    return population, logbook\n",
    "\n",
    "def main():\n",
    "    pop = toolbox.population(n=2)\n",
    "    hof = tools.HallOfFame(1)\n",
    "    stats = tools.Statistics(lambda ind: ind.fitness.values)\n",
    "    stats.register('avg', np.mean)\n",
    "    stats.register('std', np.std)\n",
    "    stats.register('min', np.min)\n",
    "    stats.register('max', np.max)\n",
    "\n",
    "    (pop, log) = evolve(\n",
    "        pop,\n",
    "        toolbox,\n",
    "        cxpb=0.5,\n",
    "        mutpb=0.2,\n",
    "        ngen=10,\n",
    "        stats=stats,\n",
    "        halloffame=hof,\n",
    "        verbose=True,\n",
    "        )\n",
    "\n",
    "    print ('pop', pop)\n",
    "\n",
    "    return (pop, log, hof)\n",
    "\n",
    "\n",
    "if __name__ == '__main__':\n",
    "    main()\n"
   ]
  },
  {
   "cell_type": "code",
   "execution_count": null,
   "metadata": {},
   "outputs": [],
   "source": [
    "#I had problems with rllib running out of memory after running many tests. Installing the ray nightly build fixed it\n",
    "ray.shutdown()"
   ]
  },
  {
   "cell_type": "code",
   "execution_count": null,
   "metadata": {},
   "outputs": [],
   "source": []
  }
 ],
 "metadata": {
  "kernelspec": {
   "display_name": "Python 3",
   "language": "python",
   "name": "python3"
  },
  "language_info": {
   "codemirror_mode": {
    "name": "ipython",
    "version": 3
   },
   "file_extension": ".py",
   "mimetype": "text/x-python",
   "name": "python",
   "nbconvert_exporter": "python",
   "pygments_lexer": "ipython3",
   "version": "3.6.4"
  }
 },
 "nbformat": 4,
 "nbformat_minor": 2
}
