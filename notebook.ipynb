{
 "cells": [
  {
   "cell_type": "code",
   "execution_count": 52,
   "metadata": {},
   "outputs": [
    {
     "data": {
      "text/plain": [
       "<module 'environments.SimpleEnv' from '/google/src/cloud/wichersn/safe-meta-transfer-learning/google3/meta-transfer-learning/environments/SimpleEnv.py'>"
      ]
     },
     "execution_count": 52,
     "metadata": {},
     "output_type": "execute_result"
    }
   ],
   "source": [
    "from environments import SimpleEnv\n",
    "import gym\n",
    "import importlib\n",
    "importlib.reload(SimpleEnv)"
   ]
  },
  {
   "cell_type": "code",
   "execution_count": 53,
   "metadata": {
    "scrolled": false
   },
   "outputs": [
    {
     "name": "stdout",
     "output_type": "stream",
     "text": [
      "obs {0: [[0, 0], [0, 0], [0, 0]], 1: [[0, 0], [0, 0], [0, 0]], 2: [[0, 0], [0, 0], [0, 0]]}\n",
      "reward [-5.10780203  4.31935954 -1.64070034]\n",
      "r, d, i {0: -5.107802033424377, 1: 4.319359540939331, 2: -1.640700340270996} {'__all__': False} {}\n",
      "obs {0: [[-2.563210964202881, -5.107802033424377], [4.319359540939331, -1.640700340270996], [-0.6381098031997681, 6.681619644165039]], 1: [[4.319359540939331, -1.640700340270996], [-2.563210964202881, -5.107802033424377], [-0.6381098031997681, 6.681619644165039]], 2: [[-0.6381098031997681, 6.681619644165039], [-2.563210964202881, -5.107802033424377], [4.319359540939331, -1.640700340270996]]}\n",
      "reward [ 2.65469027 -1.76752508  2.24014473]\n",
      "r, d, i {0: 2.6546902656555176, 1: -1.76752507686615, 2: 2.240144729614258} {'__all__': False} {}\n",
      "obs {0: [[0.48221254348754883, -2.45311176776886], [1.2312378883361816, 0.5994443893432617], [-2.405634880065918, 3.1749541759490967]], 1: [[1.2312378883361816, 0.5994443893432617], [0.48221254348754883, -2.45311176776886], [-2.405634880065918, 3.1749541759490967]], 2: [[-2.405634880065918, 3.1749541759490967], [0.48221254348754883, -2.45311176776886], [1.2312378883361816, 0.5994443893432617]]}\n",
      "reward [-5.33166456 -0.61469054  5.07741058]\n",
      "r, d, i {0: -5.331664562225342, 1: -0.6146905422210693, 2: 5.077410578727722} {'__all__': False} {}\n"
     ]
    }
   ],
   "source": [
    "n_agents = 3\n",
    "env = SimpleEnv.SimpleEnv(config={\n",
    "        'n_agents': n_agents,\n",
    "        'n_vars': 2,\n",
    "        'reward_weights':   [[0,1,1,1,0,0],\n",
    "                             [1,0,1,0,1,1],\n",
    "                             [0,0,0,1,0,1],],\n",
    "        'true_reward_weights': [2,-1],\n",
    "        'max_step_count': 20,\n",
    "    })\n",
    "\n",
    "ep_reward = 0\n",
    "\n",
    "obs_n = env.reset()\n",
    "for _ in range(3):\n",
    "    print(\"obs\", obs_n)\n",
    "    actions = {i: env.action_space.sample() for i in range(n_agents)}\n",
    "    obs_n, reward_n, done_n, info = env.step(actions)\n",
    "    print(\"r, d, i\", reward_n, done_n, info)\n"
   ]
  },
  {
   "cell_type": "code",
   "execution_count": 54,
   "metadata": {},
   "outputs": [
    {
     "data": {
      "text/plain": [
       "(array([2.5482612, 1.0697283], dtype=float32),\n",
       " array([2.9834456, 3.5140688], dtype=float32),\n",
       " array([1.6879282, 2.4851465], dtype=float32))"
      ]
     },
     "execution_count": 54,
     "metadata": {},
     "output_type": "execute_result"
    }
   ],
   "source": [
    "env.action_space.sample()"
   ]
  },
  {
   "cell_type": "code",
   "execution_count": null,
   "metadata": {},
   "outputs": [],
   "source": []
  }
 ],
 "metadata": {
  "kernelspec": {
   "display_name": "Python 3",
   "language": "python",
   "name": "python3"
  },
  "language_info": {
   "codemirror_mode": {
    "name": "ipython",
    "version": 3
   },
   "file_extension": ".py",
   "mimetype": "text/x-python",
   "name": "python",
   "nbconvert_exporter": "python",
   "pygments_lexer": "ipython3",
   "version": "3.7.7"
  }
 },
 "nbformat": 4,
 "nbformat_minor": 2
}
