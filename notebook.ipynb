{
 "cells": [
  {
   "cell_type": "code",
   "execution_count": 41,
   "metadata": {},
   "outputs": [
    {
     "data": {
      "text/plain": [
       "<module 'environments.SimpleEnv' from '/google/src/cloud/wichersn/safe-meta-transfer-learning/google3/meta-transfer-learning/environments/SimpleEnv.py'>"
      ]
     },
     "execution_count": 41,
     "metadata": {},
     "output_type": "execute_result"
    }
   ],
   "source": [
    "from environments import SimpleEnv\n",
    "import gym\n",
    "import importlib\n",
    "importlib.reload(SimpleEnv)"
   ]
  },
  {
   "cell_type": "code",
   "execution_count": 42,
   "metadata": {
    "scrolled": true
   },
   "outputs": [
    {
     "name": "stdout",
     "output_type": "stream",
     "text": [
      "_agent_i_obs before [[0, 0], [0, 0], [0, 0]] 0\n",
      "_agent_i_obs after [[0, 0], [0, 0], [0, 0]] 0\n",
      "_agent_i_obs before [[0, 0], [0, 0], [0, 0]] 1\n",
      "_agent_i_obs after [[0, 0], [0, 0], [0, 0]] 1\n",
      "_agent_i_obs before [[0, 0], [0, 0], [0, 0]] 2\n",
      "_agent_i_obs after [[0, 0], [0, 0], [0, 0]] 2\n",
      "_obs {'agent_0': [[0, 0], [0, 0], [0, 0]], 'agent_1': [[0, 0], [0, 0], [0, 0]], 'agent_2': [[0, 0], [0, 0], [0, 0]]}\n",
      "obs {'agent_0': [[0, 0], [0, 0], [0, 0]], 'agent_1': [[0, 0], [0, 0], [0, 0]], 'agent_2': [[0, 0], [0, 0], [0, 0]]}\n",
      "action [array([4.96023  , 2.9490933], dtype=float32), array([0.33612224, 1.3919642 ], dtype=float32), array([0.97761726, 1.9719795 ], dtype=float32)] agent_i agent_0\n",
      "action after [array([4.96023  , 2.9490933], dtype=float32), array([0.33612224, 1.3919642 ], dtype=float32), array([0.97761726, 1.9719795 ], dtype=float32)]\n",
      "action [array([0.6917426, 1.1770184], dtype=float32), array([1.6376193, 3.4294329], dtype=float32), array([0.9244602, 1.8672949], dtype=float32)] agent_i agent_1\n",
      "action after [array([1.6376193, 3.4294329], dtype=float32), array([0.6917426, 1.1770184], dtype=float32), array([0.9244602, 1.8672949], dtype=float32)]\n",
      "action [array([2.2368088, 1.8512907], dtype=float32), array([4.1692977, 2.639439 ], dtype=float32), array([1.6043305, 2.0210686], dtype=float32)] agent_i agent_2\n",
      "action after [array([4.1692977, 2.639439 ], dtype=float32), array([1.6043305, 2.0210686], dtype=float32), array([2.2368088, 1.8512907], dtype=float32)]\n",
      "_agent_i_obs before [[6.392961502075195, 4.905735015869141], [-6.085026919841766, -2.654591202735901], [-3.8176004886627197, -0.32872462272644043]] 0\n",
      "_agent_i_obs after [[6.392961502075195, 4.905735015869141], [-6.085026919841766, -2.654591202735901], [-3.8176004886627197, -0.32872462272644043]] 0\n",
      "_agent_i_obs before [[6.392961502075195, 4.905735015869141], [-6.085026919841766, -2.654591202735901], [-3.8176004886627197, -0.32872462272644043]] 1\n",
      "_agent_i_obs after [[-6.085026919841766, -2.654591202735901], [6.392961502075195, 4.905735015869141], [-3.8176004886627197, -0.32872462272644043]] 1\n",
      "_agent_i_obs before [[6.392961502075195, 4.905735015869141], [-6.085026919841766, -2.654591202735901], [-3.8176004886627197, -0.32872462272644043]] 2\n",
      "_agent_i_obs after [[-3.8176004886627197, -0.32872462272644043], [6.392961502075195, 4.905735015869141], [-6.085026919841766, -2.654591202735901]] 2\n",
      "_obs {'agent_0': [[6.392961502075195, 4.905735015869141], [-6.085026919841766, -2.654591202735901], [-3.8176004886627197, -0.32872462272644043]], 'agent_1': [[-6.085026919841766, -2.654591202735901], [6.392961502075195, 4.905735015869141], [-3.8176004886627197, -0.32872462272644043]], 'agent_2': [[-3.8176004886627197, -0.32872462272644043], [6.392961502075195, 4.905735015869141], [-6.085026919841766, -2.654591202735901]]}\n",
      "r, d, i {'agent_0': -1.4872264862060547, 'agent_1': -12.170053839683533, 'agent_2': -0.27568919658660884} {'__all__': False} {}\n"
     ]
    }
   ],
   "source": [
    "n_agents = 3\n",
    "env = SimpleEnv.SimpleEnv(config={\n",
    "        'n_agents': n_agents,\n",
    "        'n_vars': 2,\n",
    "        'reward_weights':   [[-1,  1],\n",
    "                             [2,  0],\n",
    "                             [-0.1,  2],],\n",
    "        'max_step_count': 20,\n",
    "    })\n",
    "\n",
    "ep_reward = 0\n",
    "\n",
    "obs_n = env.reset()\n",
    "for _ in range(1):\n",
    "    print(\"obs\", obs_n)\n",
    "    actions = {\"agent_\"+str(i): env.action_space.sample() for i in range(n_agents)}\n",
    "    obs_n, reward_n, done_n, info = env.step(actions)\n",
    "    print(\"r, d, i\", reward_n, done_n, info)\n"
   ]
  },
  {
   "cell_type": "code",
   "execution_count": null,
   "metadata": {},
   "outputs": [],
   "source": []
  }
 ],
 "metadata": {
  "kernelspec": {
   "display_name": "Python 3",
   "language": "python",
   "name": "python3"
  },
  "language_info": {
   "codemirror_mode": {
    "name": "ipython",
    "version": 3
   },
   "file_extension": ".py",
   "mimetype": "text/x-python",
   "name": "python",
   "nbconvert_exporter": "python",
   "pygments_lexer": "ipython3",
   "version": "3.7.7"
  }
 },
 "nbformat": 4,
 "nbformat_minor": 2
}
