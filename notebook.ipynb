{
 "cells": [
  {
   "cell_type": "code",
   "execution_count": 48,
   "metadata": {},
   "outputs": [
    {
     "data": {
      "text/plain": [
       "<module 'environments.SimpleEnv' from '/google/src/cloud/wichersn/safe-meta-transfer-learning/google3/meta-transfer-learning/environments/SimpleEnv.py'>"
      ]
     },
     "execution_count": 48,
     "metadata": {},
     "output_type": "execute_result"
    }
   ],
   "source": [
    "from environments import SimpleEnv\n",
    "import gym\n",
    "import importlib\n",
    "importlib.reload(SimpleEnv)"
   ]
  },
  {
   "cell_type": "code",
   "execution_count": 49,
   "metadata": {
    "scrolled": false
   },
   "outputs": [
    {
     "name": "stdout",
     "output_type": "stream",
     "text": [
      "obs {0: [[0, 0], [0, 0], [0, 0]], 1: [[0, 0], [0, 0], [0, 0]], 2: [[0, 0], [0, 0], [0, 0]]}\n",
      "r, d, i {0: array([ 0.46510243, -8.85004258,  3.3875773 ]), 1: array([ 3.3875773 , -8.85004258,  0.46510243]), 2: array([-8.85004258,  3.3875773 ,  0.46510243])} {'__all__': False} {}\n",
      "obs {0: [[0.7987966537475586, 0.4651024341583252], [1.8749582767486572, 3.3875772953033447], [2.0567266941070557, -8.850042581558228]], 1: [[1.8749582767486572, 3.3875772953033447], [0.7987966537475586, 0.4651024341583252], [2.0567266941070557, -8.850042581558228]], 2: [[2.0567266941070557, -8.850042581558228], [0.7987966537475586, 0.4651024341583252], [1.8749582767486572, 3.3875772953033447]]}\n",
      "r, d, i {0: array([-4.67191243, -8.30266619,  4.54844189]), 1: array([ 4.54844189, -8.30266619, -4.67191243]), 2: array([-8.30266619,  4.54844189, -4.67191243])} {'__all__': False} {}\n",
      "obs {0: [[0.16898083686828613, -4.206809997558594], [6.478076457977295, 7.9360191822052], [7.158351898193359, -17.152708768844604]], 1: [[6.478076457977295, 7.9360191822052], [0.16898083686828613, -4.206809997558594], [7.158351898193359, -17.152708768844604]], 2: [[7.158351898193359, -17.152708768844604], [0.16898083686828613, -4.206809997558594], [6.478076457977295, 7.9360191822052]]}\n",
      "r, d, i {0: array([-3.40957808,  0.91247392,  2.30559433]), 1: array([ 2.30559433,  0.91247392, -3.40957808]), 2: array([ 0.91247392,  2.30559433, -3.40957808])} {'__all__': False} {}\n"
     ]
    }
   ],
   "source": [
    "n_agents = 3\n",
    "env = SimpleEnv.SimpleEnv(config={\n",
    "        'n_agents': n_agents,\n",
    "        'n_vars': 2,\n",
    "        'reward_weights':   [[0,1,1,1,0,0],\n",
    "                             [1,0,1,0,1,1],\n",
    "                             [0,0,0,1,0,1],],\n",
    "        'true_reward_weights': [2,-1],\n",
    "        'max_step_count': 20,\n",
    "    })\n",
    "\n",
    "ep_reward = 0\n",
    "\n",
    "obs_n = env.reset()\n",
    "for _ in range(3):\n",
    "    print(\"obs\", obs_n)\n",
    "    actions = {i: env.action_space.sample() for i in range(n_agents)}\n",
    "    obs_n, reward_n, done_n, info = env.step(actions)\n",
    "    print(\"r, d, i\", reward_n, done_n, info)\n"
   ]
  },
  {
   "cell_type": "code",
   "execution_count": null,
   "metadata": {},
   "outputs": [],
   "source": []
  }
 ],
 "metadata": {
  "kernelspec": {
   "display_name": "Python 3",
   "language": "python",
   "name": "python3"
  },
  "language_info": {
   "codemirror_mode": {
    "name": "ipython",
    "version": 3
   },
   "file_extension": ".py",
   "mimetype": "text/x-python",
   "name": "python",
   "nbconvert_exporter": "python",
   "pygments_lexer": "ipython3",
   "version": "3.7.7"
  }
 },
 "nbformat": 4,
 "nbformat_minor": 2
}
