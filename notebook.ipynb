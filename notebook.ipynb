{
 "cells": [
  {
   "cell_type": "code",
   "execution_count": 21,
   "metadata": {},
   "outputs": [
    {
     "data": {
      "text/plain": [
       "<module 'environments.SimpleEnv' from '/google/src/cloud/wichersn/safe-meta-transfer-learning/google3/meta-transfer-learning/environments/SimpleEnv.py'>"
      ]
     },
     "execution_count": 21,
     "metadata": {},
     "output_type": "execute_result"
    }
   ],
   "source": [
    "from environments import SimpleEnv\n",
    "import gym\n",
    "import importlib\n",
    "importlib.reload(SimpleEnv)"
   ]
  },
  {
   "cell_type": "code",
   "execution_count": 22,
   "metadata": {
    "scrolled": true
   },
   "outputs": [
    {
     "name": "stdout",
     "output_type": "stream",
     "text": [
      "obs {'agent_0': [[0, 0], [0, 0], [0, 0]], 'agent_1': [[0, 0], [0, 0], [0, 0]], 'agent_2': [[0, 0], [0, 0], [0, 0]]}\n",
      "diff [[-5.08534193  0.66874838]\n",
      " [ 1.78658748 -1.27928829]\n",
      " [ 5.27240849  1.34512019]]\n",
      "rewards [-10.83943224   4.85246325   9.19969678]\n",
      "r, d, i {'agent_0': 36.59583377838135, 'agent_1': 45.83262348175049, 'agent_2': -15.131127452850341} {'__all__': False} {}\n"
     ]
    }
   ],
   "source": [
    "n_agents = 3\n",
    "env = SimpleEnv.SimpleEnv(config={\n",
    "        'n_agents': n_agents,\n",
    "        'n_vars': 2,\n",
    "        'reward_weights':   [[-1,1,4,2,6,-4],\n",
    "                             [2,0,.4,3,7,4],\n",
    "                             [-0.1,2,3,5,2,7],],\n",
    "        'true_reward_weights': [2,-1],\n",
    "        'max_step_count': 20,\n",
    "    })\n",
    "\n",
    "ep_reward = 0\n",
    "\n",
    "obs_n = env.reset()\n",
    "for _ in range(1):\n",
    "    print(\"obs\", obs_n)\n",
    "    actions = {\"agent_\"+str(i): env.action_space.sample() for i in range(n_agents)}\n",
    "    obs_n, reward_n, done_n, info = env.step(actions)\n",
    "    print(\"r, d, i\", reward_n, done_n, info)\n"
   ]
  },
  {
   "cell_type": "code",
   "execution_count": null,
   "metadata": {},
   "outputs": [],
   "source": []
  },
  {
   "cell_type": "code",
   "execution_count": null,
   "metadata": {},
   "outputs": [],
   "source": []
  }
 ],
 "metadata": {
  "kernelspec": {
   "display_name": "Python 3",
   "language": "python",
   "name": "python3"
  },
  "language_info": {
   "codemirror_mode": {
    "name": "ipython",
    "version": 3
   },
   "file_extension": ".py",
   "mimetype": "text/x-python",
   "name": "python",
   "nbconvert_exporter": "python",
   "pygments_lexer": "ipython3",
   "version": "3.7.7"
  }
 },
 "nbformat": 4,
 "nbformat_minor": 2
}
