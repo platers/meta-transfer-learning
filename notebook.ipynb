{
 "cells": [
  {
   "cell_type": "code",
   "execution_count": 1,
   "metadata": {},
   "outputs": [
    {
     "data": {
      "text/plain": [
       "<module 'environments.SimpleEnv' from '/google/src/cloud/wichersn/safe-meta-transfer-learning/google3/meta-transfer-learning/environments/SimpleEnv.py'>"
      ]
     },
     "execution_count": 1,
     "metadata": {},
     "output_type": "execute_result"
    }
   ],
   "source": [
    "from environments import SimpleEnv\n",
    "import gym\n",
    "import importlib\n",
    "importlib.reload(SimpleEnv)"
   ]
  },
  {
   "cell_type": "code",
   "execution_count": 3,
   "metadata": {
    "scrolled": true
   },
   "outputs": [
    {
     "name": "stdout",
     "output_type": "stream",
     "text": [
      "obs {0: [[0, 0], [0, 0], [0, 0]], 1: [[0, 0], [0, 0], [0, 0]], 2: [[0, 0], [0, 0], [0, 0]]}\n",
      "r, d, i {0: -17.452836275100708, 1: 18.408748054504393, 2: -14.534552359580994} {'__all__': False} {}\n"
     ]
    }
   ],
   "source": [
    "n_agents = 3\n",
    "env = SimpleEnv.SimpleEnv(config={\n",
    "        'n_agents': n_agents,\n",
    "        'n_vars': 2,\n",
    "        'reward_weights':   [[-1,1,4,2,6,-4],\n",
    "                             [2,0,.4,3,7,4],\n",
    "                             [-0.1,2,3,5,2,7],],\n",
    "        'true_reward_weights': [2,-1],\n",
    "        'max_step_count': 20,\n",
    "    })\n",
    "\n",
    "ep_reward = 0\n",
    "\n",
    "obs_n = env.reset()\n",
    "for _ in range(1):\n",
    "    print(\"obs\", obs_n)\n",
    "    actions = {i: env.action_space.sample() for i in range(n_agents)}\n",
    "    obs_n, reward_n, done_n, info = env.step(actions)\n",
    "    print(\"r, d, i\", reward_n, done_n, info)\n"
   ]
  }
 ],
 "metadata": {
  "kernelspec": {
   "display_name": "Python 3",
   "language": "python",
   "name": "python3"
  },
  "language_info": {
   "codemirror_mode": {
    "name": "ipython",
    "version": 3
   },
   "file_extension": ".py",
   "mimetype": "text/x-python",
   "name": "python",
   "nbconvert_exporter": "python",
   "pygments_lexer": "ipython3",
   "version": "3.7.7"
  }
 },
 "nbformat": 4,
 "nbformat_minor": 2
}
